{
  "metadata": {
    "kernelspec": {
      "language": "python",
      "display_name": "Python 3",
      "name": "python3"
    },
    "language_info": {
      "pygments_lexer": "ipython3",
      "nbconvert_exporter": "python",
      "version": "3.6.4",
      "file_extension": ".py",
      "codemirror_mode": {
        "name": "ipython",
        "version": 3
      },
      "name": "python",
      "mimetype": "text/x-python"
    },
    "colab": {
      "name": "EDA+LSTM Forecast Pred🚀",
      "provenance": [],
      "include_colab_link": true
    }
  },
  "nbformat_minor": 0,
  "nbformat": 4,
  "cells": [
    {
      "cell_type": "markdown",
      "metadata": {
        "id": "view-in-github",
        "colab_type": "text"
      },
      "source": [
        "<a href=\"https://colab.research.google.com/github/GM-DEVELOPER1/teperature-project/blob/main/EDA%2BLSTM_Forecast_Pred%F0%9F%9A%80.ipynb\" target=\"_parent\"><img src=\"https://colab.research.google.com/assets/colab-badge.svg\" alt=\"Open In Colab\"/></a>"
      ]
    },
    {
      "source": [
        "# IMPORTANT: RUN THIS CELL IN ORDER TO IMPORT YOUR KAGGLE DATA SOURCES,\n",
        "# THEN FEEL FREE TO DELETE THIS CELL.\n",
        "# NOTE: THIS NOTEBOOK ENVIRONMENT DIFFERS FROM KAGGLE'S PYTHON\n",
        "# ENVIRONMENT SO THERE MAY BE MISSING LIBRARIES USED BY YOUR\n",
        "# NOTEBOOK.\n",
        "import kagglehub\n",
        "subhamjain_temperature_of_all_countries_19952020_path = kagglehub.dataset_download('subhamjain/temperature-of-all-countries-19952020')\n",
        "\n",
        "print('Data source import complete.')\n"
      ],
      "metadata": {
        "id": "S68JD8hZbNkh"
      },
      "cell_type": "code",
      "outputs": [],
      "execution_count": null
    },
    {
      "cell_type": "markdown",
      "source": [
        "# Global Warming"
      ],
      "metadata": {
        "id": "e5vbrvbqbNkl"
      }
    },
    {
      "cell_type": "markdown",
      "source": [
        "### Global warming refers to the rise in global temperatures due mainly to the increasing concentrations of greenhouse gases in the atmosphere"
      ],
      "metadata": {
        "id": "hTagNSP8bNko"
      }
    },
    {
      "cell_type": "markdown",
      "source": [
        "![](https://responsabilidadsocial.net/wp-content/uploads/2018/06/calentamiento-global-que-es-definicion-causas-consecuencias-combate-lucha-contra.jpg)"
      ],
      "metadata": {
        "id": "1X6yzQNLbNkp"
      }
    },
    {
      "cell_type": "markdown",
      "source": [
        "### The aim of this project is to analyze the global temperature growth and to predict how is going to be in the following years."
      ],
      "metadata": {
        "id": "WYoHLZG1bNkq"
      }
    },
    {
      "cell_type": "code",
      "source": [
        "# This Python 3 environment comes with many helpful analytics libraries installed\n",
        "# It is defined by the kaggle/python Docker image: https://github.com/kaggle/docker-python\n",
        "# For example, here's several helpful packages to load\n",
        "\n",
        "import numpy as np # linear algebra\n",
        "import pandas as pd # data processing, CSV file I/O (e.g. pd.read_csv)\n",
        "\n",
        "# Input data files are available in the read-only \"../input/\" directory\n",
        "# For example, running this (by clicking run or pressing Shift+Enter) will list all files under the input directory\n",
        "\n",
        "import os\n",
        "for dirname, _, filenames in os.walk('/kaggle/input'):\n",
        "    for filename in filenames:\n",
        "        print(os.path.join(dirname, filename))\n",
        "\n",
        "# You can write up to 20GB to the current directory (/kaggle/working/) that gets preserved as output when you create a version using \"Save & Run All\"\n",
        "# You can also write temporary files to /kaggle/temp/, but they won't be saved outside of the current session"
      ],
      "metadata": {
        "_uuid": "8f2839f25d086af736a60e9eeb907d3b93b6e0e5",
        "_cell_guid": "b1076dfc-b9ad-4769-8c92-a6c4dae69d19",
        "_kg_hide-input": true,
        "_kg_hide-output": true,
        "execution": {
          "iopub.status.busy": "2022-08-25T18:06:57.678269Z",
          "iopub.execute_input": "2022-08-25T18:06:57.678592Z",
          "iopub.status.idle": "2022-08-25T18:06:57.691576Z",
          "shell.execute_reply.started": "2022-08-25T18:06:57.678568Z",
          "shell.execute_reply": "2022-08-25T18:06:57.690507Z"
        },
        "trusted": true,
        "id": "CML_Uv_ObNkr"
      },
      "execution_count": null,
      "outputs": []
    },
    {
      "cell_type": "code",
      "source": [
        "import matplotlib.pyplot as plt\n",
        "import seaborn as sns\n",
        "import plotly.express as px"
      ],
      "metadata": {
        "_kg_hide-input": true,
        "execution": {
          "iopub.status.busy": "2022-08-25T18:06:57.705248Z",
          "iopub.execute_input": "2022-08-25T18:06:57.705704Z",
          "iopub.status.idle": "2022-08-25T18:06:57.711365Z",
          "shell.execute_reply.started": "2022-08-25T18:06:57.705665Z",
          "shell.execute_reply": "2022-08-25T18:06:57.709709Z"
        },
        "trusted": true,
        "id": "dv8-m2QYbNks"
      },
      "execution_count": null,
      "outputs": []
    },
    {
      "cell_type": "markdown",
      "source": [
        "# EDA-Exploratory Data Analysis"
      ],
      "metadata": {
        "id": "Mf3zDiXlbNkt"
      }
    },
    {
      "cell_type": "code",
      "source": [
        "#Low memory: The reason you get this low_memory warning is because guessing dtypes for each column is very memory demanding.\n",
        "temperature_df=pd.read_csv('../input/temperature-of-all-countries-19952020/city_temperature.csv',low_memory=False)\n",
        "temperature_df.head()"
      ],
      "metadata": {
        "execution": {
          "iopub.status.busy": "2022-08-25T18:06:57.73521Z",
          "iopub.execute_input": "2022-08-25T18:06:57.735933Z",
          "iopub.status.idle": "2022-08-25T18:06:59.495692Z",
          "shell.execute_reply.started": "2022-08-25T18:06:57.735906Z",
          "shell.execute_reply": "2022-08-25T18:06:59.494561Z"
        },
        "trusted": true,
        "id": "iRmL7jVGbNku"
      },
      "execution_count": null,
      "outputs": []
    },
    {
      "cell_type": "code",
      "source": [
        "temperature_df.info()"
      ],
      "metadata": {
        "execution": {
          "iopub.status.busy": "2022-08-25T18:06:59.497109Z",
          "iopub.execute_input": "2022-08-25T18:06:59.497383Z",
          "iopub.status.idle": "2022-08-25T18:06:59.507389Z",
          "shell.execute_reply.started": "2022-08-25T18:06:59.497358Z",
          "shell.execute_reply": "2022-08-25T18:06:59.506251Z"
        },
        "trusted": true,
        "id": "S_p_mNgkbNkv"
      },
      "execution_count": null,
      "outputs": []
    },
    {
      "cell_type": "code",
      "source": [
        "temperature_df.isnull().sum() #Looking at Null Vallues"
      ],
      "metadata": {
        "execution": {
          "iopub.status.busy": "2022-08-25T18:06:59.508777Z",
          "iopub.execute_input": "2022-08-25T18:06:59.509051Z",
          "iopub.status.idle": "2022-08-25T18:06:59.904824Z",
          "shell.execute_reply.started": "2022-08-25T18:06:59.509026Z",
          "shell.execute_reply": "2022-08-25T18:06:59.903725Z"
        },
        "trusted": true,
        "id": "0MbVQ0H0bNkv"
      },
      "execution_count": null,
      "outputs": []
    },
    {
      "cell_type": "code",
      "source": [
        "temperature_df['State'].value_counts() #Looking at this column, we consider that is meaningless for the project porpuse."
      ],
      "metadata": {
        "execution": {
          "iopub.status.busy": "2022-08-25T18:06:59.908412Z",
          "iopub.execute_input": "2022-08-25T18:06:59.908802Z",
          "iopub.status.idle": "2022-08-25T18:06:59.993743Z",
          "shell.execute_reply.started": "2022-08-25T18:06:59.908775Z",
          "shell.execute_reply": "2022-08-25T18:06:59.992482Z"
        },
        "trusted": true,
        "id": "bl1f3ScVbNkw"
      },
      "execution_count": null,
      "outputs": []
    },
    {
      "cell_type": "code",
      "source": [
        "temperature_df=temperature_df.drop('State',axis=1) #Drop column"
      ],
      "metadata": {
        "execution": {
          "iopub.status.busy": "2022-08-25T18:06:59.99502Z",
          "iopub.execute_input": "2022-08-25T18:06:59.995362Z",
          "iopub.status.idle": "2022-08-25T18:07:00.077481Z",
          "shell.execute_reply.started": "2022-08-25T18:06:59.995327Z",
          "shell.execute_reply": "2022-08-25T18:07:00.076611Z"
        },
        "trusted": true,
        "id": "2NKOWl1nbNkw"
      },
      "execution_count": null,
      "outputs": []
    },
    {
      "cell_type": "code",
      "source": [
        "world=temperature_df.groupby(['Year','Month','Day'])['AvgTemperature'].mean().reset_index() #Group by, mean temperature for each day and set a DF\n",
        "world"
      ],
      "metadata": {
        "execution": {
          "iopub.status.busy": "2022-08-25T18:07:00.080395Z",
          "iopub.execute_input": "2022-08-25T18:07:00.080648Z",
          "iopub.status.idle": "2022-08-25T18:07:00.253884Z",
          "shell.execute_reply.started": "2022-08-25T18:07:00.080609Z",
          "shell.execute_reply": "2022-08-25T18:07:00.252838Z"
        },
        "trusted": true,
        "id": "jiT3KJqpbNkx"
      },
      "execution_count": null,
      "outputs": []
    },
    {
      "cell_type": "code",
      "source": [
        "world['Year'].value_counts() #Looking at year"
      ],
      "metadata": {
        "execution": {
          "iopub.status.busy": "2022-08-25T18:07:00.255276Z",
          "iopub.execute_input": "2022-08-25T18:07:00.255534Z",
          "iopub.status.idle": "2022-08-25T18:07:00.264323Z",
          "shell.execute_reply.started": "2022-08-25T18:07:00.255511Z",
          "shell.execute_reply": "2022-08-25T18:07:00.262982Z"
        },
        "trusted": true,
        "id": "NtyzsmLfbNky"
      },
      "execution_count": null,
      "outputs": []
    },
    {
      "cell_type": "code",
      "source": [
        "world.drop(world[world['Year']<1995].index,inplace=True) #Drop meaningless rows\n",
        "world\n",
        "\n",
        "\n",
        "\n"
      ],
      "metadata": {
        "execution": {
          "iopub.status.busy": "2022-08-25T18:07:00.265561Z",
          "iopub.execute_input": "2022-08-25T18:07:00.265872Z",
          "iopub.status.idle": "2022-08-25T18:07:00.283268Z",
          "shell.execute_reply.started": "2022-08-25T18:07:00.265843Z",
          "shell.execute_reply": "2022-08-25T18:07:00.282216Z"
        },
        "trusted": true,
        "id": "mjmtnQ3ObNkz"
      },
      "execution_count": null,
      "outputs": []
    },
    {
      "cell_type": "code",
      "source": [
        "world['AvgTemperature'].describe() #Looking at the AvgTemperature"
      ],
      "metadata": {
        "execution": {
          "iopub.status.busy": "2022-08-25T18:07:00.284183Z",
          "iopub.execute_input": "2022-08-25T18:07:00.284414Z",
          "iopub.status.idle": "2022-08-25T18:07:00.294744Z",
          "shell.execute_reply.started": "2022-08-25T18:07:00.284392Z",
          "shell.execute_reply": "2022-08-25T18:07:00.293981Z"
        },
        "trusted": true,
        "id": "n9TzbBX4bNkz"
      },
      "execution_count": null,
      "outputs": []
    },
    {
      "cell_type": "code",
      "source": [
        "world[world['AvgTemperature']<0]['AvgTemperature'].describe() #Further look at the negative values, we think there are mistakes"
      ],
      "metadata": {
        "execution": {
          "iopub.status.busy": "2022-08-25T18:07:00.298184Z",
          "iopub.execute_input": "2022-08-25T18:07:00.298459Z",
          "iopub.status.idle": "2022-08-25T18:07:00.308822Z",
          "shell.execute_reply.started": "2022-08-25T18:07:00.298436Z",
          "shell.execute_reply": "2022-08-25T18:07:00.307793Z"
        },
        "trusted": true,
        "id": "o-8ldI3KbNk0"
      },
      "execution_count": null,
      "outputs": []
    },
    {
      "cell_type": "code",
      "source": [
        "world.drop(world[world['AvgTemperature']<50].index,inplace=True)"
      ],
      "metadata": {
        "execution": {
          "iopub.status.busy": "2022-08-25T18:07:00.310238Z",
          "iopub.execute_input": "2022-08-25T18:07:00.310489Z",
          "iopub.status.idle": "2022-08-25T18:07:00.3184Z",
          "shell.execute_reply.started": "2022-08-25T18:07:00.310466Z",
          "shell.execute_reply": "2022-08-25T18:07:00.317747Z"
        },
        "trusted": true,
        "id": "jrnjunEtbNk0"
      },
      "execution_count": null,
      "outputs": []
    },
    {
      "cell_type": "markdown",
      "source": [
        "### As we can see the AVG Temperature is in Fahrenheit Scale. We turn it into Celsius Scale just substracting 32 or Adding 32 if the temperature is below freezing."
      ],
      "metadata": {
        "id": "YsrImH2CbNk0"
      }
    },
    {
      "cell_type": "code",
      "source": [
        "world['AvgTemperature']=world['AvgTemperature'].map(lambda x: x-32 if x>0 else x+32) #Celsius\n",
        "world"
      ],
      "metadata": {
        "execution": {
          "iopub.status.busy": "2022-08-25T18:07:00.319988Z",
          "iopub.execute_input": "2022-08-25T18:07:00.320319Z",
          "iopub.status.idle": "2022-08-25T18:07:00.338263Z",
          "shell.execute_reply.started": "2022-08-25T18:07:00.320286Z",
          "shell.execute_reply": "2022-08-25T18:07:00.337122Z"
        },
        "trusted": true,
        "id": "leAur2FkbNk1"
      },
      "execution_count": null,
      "outputs": []
    },
    {
      "cell_type": "code",
      "source": [
        "world['Day'].value_counts()"
      ],
      "metadata": {
        "execution": {
          "iopub.status.busy": "2022-08-25T18:07:00.339426Z",
          "iopub.execute_input": "2022-08-25T18:07:00.340195Z",
          "iopub.status.idle": "2022-08-25T18:07:00.347327Z",
          "shell.execute_reply.started": "2022-08-25T18:07:00.340168Z",
          "shell.execute_reply": "2022-08-25T18:07:00.346378Z"
        },
        "trusted": true,
        "id": "jnrZjHBTbNk1"
      },
      "execution_count": null,
      "outputs": []
    },
    {
      "cell_type": "code",
      "source": [
        "world.drop(world[world['Day']==0].index,inplace=True) #0 is a mistake"
      ],
      "metadata": {
        "execution": {
          "iopub.status.busy": "2022-08-25T18:07:00.349336Z",
          "iopub.execute_input": "2022-08-25T18:07:00.350067Z",
          "iopub.status.idle": "2022-08-25T18:07:00.357484Z",
          "shell.execute_reply.started": "2022-08-25T18:07:00.350041Z",
          "shell.execute_reply": "2022-08-25T18:07:00.356871Z"
        },
        "trusted": true,
        "id": "7xXq4JnGbNk2"
      },
      "execution_count": null,
      "outputs": []
    },
    {
      "cell_type": "code",
      "source": [
        "world['Date']= world['Year'].map(str)+\"-\"+world['Month'].map(str)+\"-\"+world['Day'].map(str) #Create a new column with Year,Month,Day"
      ],
      "metadata": {
        "execution": {
          "iopub.status.busy": "2022-08-25T18:07:00.358854Z",
          "iopub.execute_input": "2022-08-25T18:07:00.359379Z",
          "iopub.status.idle": "2022-08-25T18:07:00.372917Z",
          "shell.execute_reply.started": "2022-08-25T18:07:00.359344Z",
          "shell.execute_reply": "2022-08-25T18:07:00.372053Z"
        },
        "trusted": true,
        "id": "cu3xte0sbNk2"
      },
      "execution_count": null,
      "outputs": []
    },
    {
      "cell_type": "code",
      "source": [
        "world['Date'] #Take a look"
      ],
      "metadata": {
        "execution": {
          "iopub.status.busy": "2022-08-25T18:07:00.374428Z",
          "iopub.execute_input": "2022-08-25T18:07:00.374983Z",
          "iopub.status.idle": "2022-08-25T18:07:00.383199Z",
          "shell.execute_reply.started": "2022-08-25T18:07:00.374951Z",
          "shell.execute_reply": "2022-08-25T18:07:00.382143Z"
        },
        "trusted": true,
        "id": "rhFhm0eUbNk2"
      },
      "execution_count": null,
      "outputs": []
    },
    {
      "cell_type": "code",
      "source": [
        "import warnings\n",
        "warnings.filterwarnings('ignore') #avoid Warnings\n",
        "sns.set_style('darkgrid')\n",
        "plt.rcParams['figure.figsize']=50,10\n",
        "plt.title('Average Temperature of the world ',fontsize=15, fontweight='bold')\n",
        "\n",
        "ax=sns.lineplot(data=world,x='Date',y='AvgTemperature',palette=\"Blues_d\") #lineplot\n",
        "plt.locator_params(axis='x', nbins=10)#to get the xtick correctly\n",
        "every_nth = 100\n",
        "for n, label in enumerate(ax.xaxis.get_ticklabels()):\n",
        "    if n % every_nth != 0:\n",
        "        label.set_visible(False)\n",
        "plt.xticks(rotation=90, fontweight='bold',fontsize=10);"
      ],
      "metadata": {
        "execution": {
          "iopub.status.busy": "2022-08-25T18:07:00.384275Z",
          "iopub.execute_input": "2022-08-25T18:07:00.38451Z",
          "iopub.status.idle": "2022-08-25T18:07:15.596341Z",
          "shell.execute_reply.started": "2022-08-25T18:07:00.384487Z",
          "shell.execute_reply": "2022-08-25T18:07:15.595291Z"
        },
        "trusted": true,
        "id": "TrEHnNKxbNk2"
      },
      "execution_count": null,
      "outputs": []
    },
    {
      "cell_type": "markdown",
      "source": [
        "### The line plot is a cyclic data. if you look properly the temperature is going high year by year"
      ],
      "metadata": {
        "id": "PDKDpvyEbNk3"
      }
    },
    {
      "cell_type": "code",
      "source": [
        "temperature = world.filter(['AvgTemperature'])\n",
        "# Convert the dataframe to a numpy array\n",
        "temp_values = temperature.values\n",
        "# Get the number of rows to train the model on\n",
        "training_data_len = int(np.ceil( len(temp_values) * .95 )) #get the 95% of rows\n",
        "\n",
        "training_data_len"
      ],
      "metadata": {
        "execution": {
          "iopub.status.busy": "2022-08-25T18:08:29.448704Z",
          "iopub.execute_input": "2022-08-25T18:08:29.449016Z",
          "iopub.status.idle": "2022-08-25T18:08:29.458367Z",
          "shell.execute_reply.started": "2022-08-25T18:08:29.448992Z",
          "shell.execute_reply": "2022-08-25T18:08:29.457213Z"
        },
        "trusted": true,
        "id": "lQ0_4UZxbNk3"
      },
      "execution_count": null,
      "outputs": []
    },
    {
      "cell_type": "code",
      "source": [
        "from sklearn.preprocessing import MinMaxScaler #preprocessing\n",
        "\n",
        "scaler = MinMaxScaler(feature_range=(0,1))\n",
        "scaled_data = scaler.fit_transform(temp_values)\n",
        "\n",
        "scaled_data"
      ],
      "metadata": {
        "execution": {
          "iopub.status.busy": "2022-08-25T18:07:15.605958Z",
          "iopub.execute_input": "2022-08-25T18:07:15.606963Z",
          "iopub.status.idle": "2022-08-25T18:07:15.618184Z",
          "shell.execute_reply.started": "2022-08-25T18:07:15.606934Z",
          "shell.execute_reply": "2022-08-25T18:07:15.616693Z"
        },
        "trusted": true,
        "id": "J301NdvdbNk4"
      },
      "execution_count": null,
      "outputs": []
    },
    {
      "cell_type": "code",
      "source": [
        "# Create the training data set\n",
        "# Create the scaled training data set\n",
        "train_data = scaled_data[0:int(training_data_len), :]\n",
        "# Split the data into x_train and y_train data sets\n",
        "x_train = []\n",
        "y_train = []\n",
        "\n",
        "for i in range(60, len(train_data)):\n",
        "    x_train.append(train_data[i-60:i, 0])\n",
        "    y_train.append(train_data[i, 0])\n",
        "    if i<= 61:\n",
        "        print(x_train)\n",
        "        print(y_train)\n",
        "        print()\n",
        "\n",
        "# Convert the x_train and y_train to numpy arrays\n",
        "x_train, y_train = np.array(x_train), np.array(y_train)\n",
        "\n",
        "# Reshape the data\n",
        "x_train = np.reshape(x_train, (x_train.shape[0], x_train.shape[1], 1))\n",
        "# x_train.shape"
      ],
      "metadata": {
        "execution": {
          "iopub.status.busy": "2022-08-25T18:07:15.619384Z",
          "iopub.execute_input": "2022-08-25T18:07:15.620098Z",
          "iopub.status.idle": "2022-08-25T18:07:15.642857Z",
          "shell.execute_reply.started": "2022-08-25T18:07:15.62007Z",
          "shell.execute_reply": "2022-08-25T18:07:15.641657Z"
        },
        "_kg_hide-output": true,
        "trusted": true,
        "id": "EJSpREO7bNk4"
      },
      "execution_count": null,
      "outputs": []
    },
    {
      "cell_type": "code",
      "source": [
        "from keras.models import Sequential\n",
        "from keras.layers import Dense, LSTM\n",
        "\n",
        "# Build the LSTM model\n",
        "model = Sequential()\n",
        "model.add(LSTM(128, return_sequences=True, input_shape= (x_train.shape[1], 1)))\n",
        "model.add(LSTM(64, return_sequences=False))\n",
        "model.add(Dense(25))\n",
        "model.add(Dense(1))\n",
        "\n",
        "# Compile the model\n",
        "model.compile(optimizer='adam', loss='mean_squared_error')\n",
        "\n",
        "# Train the model\n",
        "model.fit(x_train, y_train, batch_size=50, epochs=1)"
      ],
      "metadata": {
        "execution": {
          "iopub.status.busy": "2022-08-25T18:07:15.64453Z",
          "iopub.execute_input": "2022-08-25T18:07:15.644858Z",
          "iopub.status.idle": "2022-08-25T18:07:31.418886Z",
          "shell.execute_reply.started": "2022-08-25T18:07:15.644833Z",
          "shell.execute_reply": "2022-08-25T18:07:31.418248Z"
        },
        "trusted": true,
        "id": "AB3lcjfIbNk5"
      },
      "execution_count": null,
      "outputs": []
    },
    {
      "cell_type": "code",
      "source": [
        "# Create the testing data set\n",
        "# Create a new array containing scaled values from index 1543 to 2002\n",
        "test_data = scaled_data[training_data_len - 60: , :]\n",
        "# Create the data sets x_test and y_test\n",
        "x_test = []\n",
        "y_test = temp_values[training_data_len:, :]\n",
        "for i in range(60, len(test_data)):\n",
        "    x_test.append(test_data[i-60:i, 0])\n",
        "\n",
        "# Convert the data to a numpy array\n",
        "x_test = np.array(x_test)\n",
        "\n",
        "# Reshape the data\n",
        "x_test = np.reshape(x_test, (x_test.shape[0], x_test.shape[1], 1 ))\n",
        "\n",
        "# Get the models predicted price values\n",
        "predictions = model.predict(x_test)\n",
        "predictions = scaler.inverse_transform(predictions)\n",
        "\n",
        "# Get the root mean squared error (RMSE)\n",
        "rmse = np.sqrt(np.mean(((predictions - y_test) ** 2)))\n",
        "rmse"
      ],
      "metadata": {
        "execution": {
          "iopub.status.busy": "2022-08-25T18:09:14.006727Z",
          "iopub.execute_input": "2022-08-25T18:09:14.007067Z",
          "iopub.status.idle": "2022-08-25T18:09:14.384338Z",
          "shell.execute_reply.started": "2022-08-25T18:09:14.007042Z",
          "shell.execute_reply": "2022-08-25T18:09:14.383688Z"
        },
        "trusted": true,
        "id": "fTp-4rMtbNk5"
      },
      "execution_count": null,
      "outputs": []
    },
    {
      "cell_type": "code",
      "source": [
        "train = temperature[:training_data_len]\n",
        "valid = temperature[training_data_len:]\n",
        "valid['Predictions'] = predictions\n",
        "# Visualize the data\n",
        "plt.figure(figsize=(16,6))\n",
        "plt.title('Model')\n",
        "plt.xlabel('Date', fontsize=18)\n",
        "plt.ylabel('AvgTemperature', fontsize=18)\n",
        "plt.plot(train['AvgTemperature'])\n",
        "plt.plot(valid[['AvgTemperature', 'Predictions']])\n",
        "plt.legend(['Train', 'Val', 'Predictions'], loc='lower right')\n",
        "plt.show()"
      ],
      "metadata": {
        "execution": {
          "iopub.status.busy": "2022-08-25T18:09:26.781226Z",
          "iopub.execute_input": "2022-08-25T18:09:26.781535Z",
          "iopub.status.idle": "2022-08-25T18:09:27.00727Z",
          "shell.execute_reply.started": "2022-08-25T18:09:26.78151Z",
          "shell.execute_reply": "2022-08-25T18:09:27.006063Z"
        },
        "trusted": true,
        "id": "3EX5x7UnbNk6"
      },
      "execution_count": null,
      "outputs": []
    },
    {
      "cell_type": "markdown",
      "source": [
        "## References:\n",
        "\n",
        "\n",
        "https://analyticsindiamag.com/tutorial-on-univariate-single-step-style-lstm-in-time-series-forecasting/\n",
        "https://keras.io/examples/timeseries/timeseries_weather_forecasting/"
      ],
      "metadata": {
        "id": "oya1hl9ebNk6"
      }
    },
    {
      "cell_type": "markdown",
      "source": [
        "### Hope you like it!!!!"
      ],
      "metadata": {
        "id": "JiqGv048bNk6"
      }
    }
  ]
}